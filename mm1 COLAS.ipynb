{
 "cells": [
  {
   "cell_type": "markdown",
   "metadata": {},
   "source": [
    "MODELO MM1:\n",
    "\n",
    "Significa que la llegada de los clientes al sistema de forma probabilística, el servicio es de forma probabilística y es un solo servidor.\n",
    "p : uso del sistema (probabilidad) %\n",
    "miu : tasa de servicios\n",
    "landa : tasa de llegadas\n",
    "Ls : cantidad de personas en el sistema\n",
    "Ws: cantidad de tiempo en el sistema\n",
    "Lq : cantidad de personas en la cola\n",
    "Wq : cantidad de tiempo en la cola (esperan en la cola)\n",
    "Po : probabilidad de que el sistema se encuentre desocupado\n",
    "Pn : probabilidad de que halla n clientes en el sistema\n",
    "\n",
    "si la velocidad a la cual los clientes llegan es MAYOR a la velocidad a la cual pueden atender el servidor, el sistema es INESTABLE\n",
    "landa < miu   o   miu > landa\n",
    "\n",
    "pn = (1-(landa/miu)) * (landa/miu)^n\n",
    "\n"
   ]
  },
  {
   "cell_type": "code",
   "execution_count": 4,
   "metadata": {
    "collapsed": false
   },
   "outputs": [
    {
     "name": "stdout",
     "output_type": "stream",
     "text": [
      "tasa servicio: 6\n",
      "tasa llegadas: 5\n",
      "uso del sistema (P):  0.833333333333\n",
      "cantidad de personas en el sistema (Ls):  5.0\n",
      "tiempo en el sistema (Ws):  1.0\n",
      "cantidad de personas en la cola (Lq):  4.16666666667\n",
      "cantidad de tiempo en la cola (Wq):  0.833333333333\n",
      "probabilidad sistema se encuentre desocupado (Po):  0.166666666667\n"
     ]
    }
   ],
   "source": [
    "miu = float(input(\"tasa servicio: \"))\n",
    "landa = float(input(\"tasa llegadas: \"))\n",
    "\n",
    "p = float(0)\n",
    "ls = float(0)\n",
    "ws = float(0)\n",
    "lq = float(0)\n",
    "wq = float(0)\n",
    "po = float(0)\n",
    "\n",
    "p = landa / miu\n",
    "ls = landa / (miu - landa)\n",
    "ws = 1 / (miu - landa)\n",
    "lq = (landa*landa)/(miu*(miu - landa))\n",
    "wq = landa / (miu*(miu - landa))\n",
    "po = 1 - p \n",
    "    \n",
    "print \"uso del sistema (P): \",p\n",
    "print \"cantidad de personas en el sistema (Ls): \",ls\n",
    "print \"tiempo en el sistema (Ws): \",ws\n",
    "print \"cantidad de personas en la cola (Lq): \",lq\n",
    "print \"cantidad de tiempo en la cola (Wq): \",wq\n",
    "print \"probabilidad sistema se encuentre desocupado (Po): \",po\n",
    "    \n",
    "    "
   ]
  },
  {
   "cell_type": "code",
   "execution_count": null,
   "metadata": {
    "collapsed": true
   },
   "outputs": [],
   "source": []
  }
 ],
 "metadata": {
  "kernelspec": {
   "display_name": "Python 2",
   "language": "python",
   "name": "python2"
  },
  "language_info": {
   "codemirror_mode": {
    "name": "ipython",
    "version": 2
   },
   "file_extension": ".py",
   "mimetype": "text/x-python",
   "name": "python",
   "nbconvert_exporter": "python",
   "pygments_lexer": "ipython2",
   "version": "2.7.11"
  }
 },
 "nbformat": 4,
 "nbformat_minor": 0
}
