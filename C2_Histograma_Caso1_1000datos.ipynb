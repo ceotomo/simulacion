{
 "cells": [
  {
   "cell_type": "code",
   "execution_count": null,
   "metadata": {
    "collapsed": false
   },
   "outputs": [],
   "source": [
    "from matplotlib.pylab import hist, show\n",
    "import matplotlib.pyplot as plt\n",
    "\n",
    "datos = []\n",
    "x = float (7)\n",
    "a = float (5)\n",
    "c = float (3)\n",
    "m = float (16)\n",
    "can = float(1000)\n",
    "ite = 1\n",
    "res = 0\n",
    "can = can + 1\n",
    "print \"************* Caso 1: 1000 datos y graficar *************\"\n",
    "print \"N\",\"\\t\", \"Un\",\"\\t\",\"Xn\"\n",
    "while(can != ite):\n",
    "    if(ite == 0):\n",
    "        res = x\n",
    "    x = (a * x + c) % m\n",
    "    y = x / m\n",
    "    print ite, \"\\t\",y,\"\\t\",x\n",
    "    ite = ite + 1\n",
    "    datos.append(y)\n",
    "plt.title('caso 1')\n",
    "plt.xlabel('Xn')\n",
    "plt.ylabel('Frecuencia')\n",
    "hist(datos, can, (0,1))\n",
    "show()"
   ]
  }
 ],
 "metadata": {
  "kernelspec": {
   "display_name": "Python 2",
   "language": "python",
   "name": "python2"
  },
  "language_info": {
   "codemirror_mode": {
    "name": "ipython",
    "version": 2
   },
   "file_extension": ".py",
   "mimetype": "text/x-python",
   "name": "python",
   "nbconvert_exporter": "python",
   "pygments_lexer": "ipython2",
   "version": "2.7.11"
  }
 },
 "nbformat": 4,
 "nbformat_minor": 0
}
