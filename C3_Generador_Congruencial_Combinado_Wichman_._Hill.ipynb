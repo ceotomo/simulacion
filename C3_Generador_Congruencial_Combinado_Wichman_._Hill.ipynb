{
 "cells": [
  {
   "cell_type": "code",
   "execution_count": null,
   "metadata": {
    "collapsed": false
   },
   "outputs": [],
   "source": [
    "x = float (input(\"Semilla 1 = \"))\n",
    "y = float (input(\"Semilla 2 = \"))\n",
    "z = float (input(\"Semilla 3 = \"))\n",
    "can = float (input(\"Cantidad = \"))\n",
    "ite = 1\n",
    "can = can + 1\n",
    "print \"************* Generador Congruencial Combinado Wichman y Hill *************\"\n",
    "while(can != ite):\n",
    "    xi = (171*x)%30269\n",
    "    yi = (172*y)%30307\n",
    "    zi = (170*z)%30323\n",
    "    y = (xi/30269.0 + yi/30307.0 + zi/30323.0)%1 \n",
    "    print \"N\",ite, \"\\t = \",y\n",
    "    x = xi\n",
    "    y = yi\n",
    "    z = zi\n",
    "    ite = ite + 1"
   ]
  },
  {
   "cell_type": "code",
   "execution_count": null,
   "metadata": {
    "collapsed": true
   },
   "outputs": [],
   "source": []
  }
 ],
 "metadata": {
  "kernelspec": {
   "display_name": "Python 2",
   "language": "python",
   "name": "python2"
  },
  "language_info": {
   "codemirror_mode": {
    "name": "ipython",
    "version": 2
   },
   "file_extension": ".py",
   "mimetype": "text/x-python",
   "name": "python",
   "nbconvert_exporter": "python",
   "pygments_lexer": "ipython2",
   "version": "2.7.11"
  }
 },
 "nbformat": 4,
 "nbformat_minor": 0
}
