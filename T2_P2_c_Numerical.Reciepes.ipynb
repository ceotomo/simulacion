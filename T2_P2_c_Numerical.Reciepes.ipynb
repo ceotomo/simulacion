{
 "cells": [
  {
   "cell_type": "code",
   "execution_count": 1,
   "metadata": {
    "collapsed": false
   },
   "outputs": [
    {
     "name": "stdout",
     "output_type": "stream",
     "text": [
      "[0.23878083983436227, 0.9134932646993548, 0.6124916663393378, 0.9269814591389149, 0.049341175239533186, 0.8557835568208247, 0.3609851561486721, 0.05310634127818048, 0.06878403620794415, 0.9839370010886341, 0.9728050315752625, 0.5312507867347449, 0.45185762410983443, 0.5478393950033933, 0.6050359960645437, 0.7774173074867576, 0.7798123680986464, 0.4180773722473532, 0.47410799842327833, 0.8521434802096337, 0.36246391339227557, 0.48150725034065545, 0.09194125235080719, 0.7491372001823038, 0.8342014220543206, 0.35811294079758227, 0.17884906847029924, 0.9817634976934642, 0.12206618627533317, 0.4547779217828065, 0.45632349886000156, 0.10800791694782674, 0.11402555415406823, 0.6215962732676417, 0.7728287940844893, 0.08454145747236907, 0.6055671679787338, 0.9263477746862918, 0.2657276727259159, 0.5905120780225843, 0.35273851500824094, 0.3127620650921017, 0.5124654034152627, 0.7116877629887313, 0.30975679075345397, 0.15819686581380665, 0.8741366993635893, 0.6255761513020843, 0.37931407475844026, 0.9963552656117827, 0.48456042539328337, 0.17814572784118354, 0.2537028188817203, 0.9206670683342963, 0.5879871174693108, 0.4927735773380846, 0.17488664807751775, 0.4339592030737549, 0.1785643147304654, 0.0020447007846087217, 0.6916414736770093, 0.7600401968229562, 0.1446847040206194, 0.5430278943385929, 0.741891919169575, 0.8828237096313387, 0.3713420769199729, 0.4066531907301396, 0.6383680584840477, 0.8286161322612315, 0.5036200992763042, 0.48181586316786706, 0.7857074667699635, 0.9571932463441044, 0.3244388932362199, 0.884831991745159, 0.2071275836788118, 0.27729094703681767, 0.9496844317764044, 0.7148705923464149, 0.2087933891452849, 0.0521350281778723, 0.29384574573487043, 0.8259873080532998, 0.7600053916685283, 0.2106350299436599, 0.5092849433422089, 0.7563846630509943, 0.4173329290933907, 0.3298671490047127, 0.3522650422528386, 0.2055238790344447, 0.8708177818916738, 0.20447121118195355, 0.6788606140762568, 0.6997132541146129, 0.4403730989433825, 0.2685867066029459, 0.5238762414082885, 0.33679810422472656]\n",
      "('De = ', 0.23478823205518001)\n",
      "('D = ', 0.23478823205517979)\n",
      "('p-value = ', 2.4793840659009803e-05)\n"
     ]
    }
   ],
   "source": [
    "#Numerical Reciepes Xi+1 = 1664525xi + 1013904223 mod 2E32\n",
    "\n",
    "import numpy as np\n",
    "import matplotlib.pyplot as plt\n",
    "import math\n",
    "\n",
    "x = float(7)\n",
    "a = float(1664525)\n",
    "c = float(1013904223)\n",
    "m = float (math.pow(2,32))\n",
    "can = 100\n",
    "ite = 0.0\n",
    "res = 0.0\n",
    "lista = []\n",
    "\n",
    "while(can != ite):\n",
    "    if(ite == 0):\n",
    "        res = x\n",
    "    x = (a * x + c) % m\n",
    "    y = x / m\n",
    "    #print ite, \"\\t\",y,\"\\t\",x\n",
    "    ite = ite + 1\n",
    "    lista.append(y)\n",
    "print lista\n",
    "\n",
    "\"\"\"Imprime el resultado de aplicar el Test K-S sobre una secuencia de valores U[0,1].\"\"\"    \n",
    "N = len(lista)\n",
    "# Teoretical CDF for Uniform distribution F(x)\n",
    "u = [1.0] * N\n",
    "#print(u)\n",
    "\n",
    "# Plot empirical distribution f(x)\n",
    "count, bins, ignored = plt.hist(lista, 25, normed=True)\n",
    "plt.plot(bins, np.ones_like(bins), linewidth=2, color='r')\n",
    "plt.show()\n",
    "    \n",
    "x1 = np.arange(1/float(N), 1+1/float(N) , 1/float(N))\n",
    "y1 = np.cumsum(np.sort(u)/np.max(np.cumsum(u)))\n",
    "    \n",
    "x2 = np.sort(lista)\n",
    "y2 = np.cumsum(np.sort(lista)/np.max(np.cumsum(lista)))\n",
    "    \n",
    "De=np.absolute(y2-y1)\n",
    "print(\"De = \",np.max(De))\n",
    "    \n",
    "# Plotting\n",
    "plt.plot(x1,y1,label='Uniform')\n",
    "plt.step(x2,y2,label='Random')\n",
    "x3 = [x1[De.argmax()],x1[De.argmax()]]\n",
    "y3 = [np.min([y1[De.argmax()],y2[De.argmax()]]),np.max([y1[De.argmax()],y2[De.argmax()]])]\n",
    "plt.step(x3,y3,label='D')\n",
    "plt.legend()\n",
    "plt.xlabel('X')\n",
    "plt.ylabel('Cumulative Probability P(X)')\n",
    "plt.ylim(0, 1.05)\n",
    "plt.show()\n",
    "    \n",
    "# scipy function for K-S test\n",
    "from scipy import stats\n",
    "D,pvalue = stats.kstest(y2, 'uniform')\n",
    "print(\"D = \", D)\n",
    "print(\"p-value = \", pvalue)"
   ]
  },
  {
   "cell_type": "code",
   "execution_count": 2,
   "metadata": {
    "collapsed": false
   },
   "outputs": [
    {
     "name": "stdout",
     "output_type": "stream",
     "text": [
      "Estimado:  5.16\n"
     ]
    }
   ],
   "source": [
    "#Realizando el test chi cuadrado (k=11)\n",
    "import numpy as np\n",
    "import matplotlib.pyplot as plt\n",
    "import math\n",
    "\n",
    "x = float(7)\n",
    "a = float(1664525)\n",
    "c = float(1013904223)\n",
    "m = float (math.pow(2,32))\n",
    "can = float (100)\n",
    "ite = 0.0\n",
    "res = 0.0\n",
    "k = 11  #cantidad de particiones para el intervalo [0,1]\n",
    "lista = []\n",
    "\n",
    "while(can != ite):\n",
    "    if(ite == 0):\n",
    "        res = x\n",
    "    x = (a * x + c) % m\n",
    "    y = x / m\n",
    "    #print ite, \"\\t\",y,\"\\t\",x\n",
    "    ite = ite + 1\n",
    "    lista.append(y)\n",
    "    #print lista\n",
    "\n",
    "longitudIntervalo = 1 / float(k) \n",
    "#Creando la lista que guardar los contadores para c/u de los k intervalos. \n",
    "frecuenciasObservadas = []           \n",
    "\n",
    "#Llenando con ceros los contadores de la lista.\n",
    "for i in range(0,k):\n",
    "    frecuenciasObservadas.append(0)\n",
    "    \n",
    "#print 'Longitud lista de FO = ' + str(len(frecuenciasObservadas))\n",
    "   \n",
    "#Recorriendo los valores de la secuencia y aumentando los contadores para c/u de los k intervalos.    \n",
    "for i in range(len(lista)):\n",
    "    cont = 1\n",
    "    for j in range(0,k):     \n",
    "        if lista[i] > (cont - 1) * longitudIntervalo and lista[i] <= cont * longitudIntervalo:\n",
    "            frecuenciasObservadas[j] += 1\n",
    "        cont += 1 \n",
    "            \n",
    "# Imprimiendo las frecuencias observados en cada intervalo.   \n",
    "# for i in range(len(frecuenciasObservadas)):\n",
    "# print 'F[' + str(i) + ']' + ' = ' + str(frecuenciasObservadas[i])+ '\\n'\n",
    "        \n",
    "frecuenciaEsperada = len(lista) / float(k)\n",
    "estimadoJiCuadrado = 0.0\n",
    "        \n",
    "for i in range(0,k):\n",
    "    estimadoJiCuadrado += (frecuenciasObservadas[i] - frecuenciaEsperada)**2 / frecuenciaEsperada\n",
    "print \"Estimado: \",estimadoJiCuadrado"
   ]
  },
  {
   "cell_type": "code",
   "execution_count": 3,
   "metadata": {
    "collapsed": false
   },
   "outputs": [
    {
     "name": "stdout",
     "output_type": "stream",
     "text": [
      "\n",
      "Rachas = [' ', 1, 0, 1, 0, 1, 0, 0, 1, 1, 0, 0, 0, 1, 1, 1, 1, 0, 1, 1, 0, 1, 0, 1, 1, 0, 0, 1, 0, 1, 1, 0, 1, 1, 1, 0, 1, 1, 0, 1, 0, 0, 1, 1, 0, 0, 1, 0, 0, 1, 0, 0, 1, 1, 0, 0, 0, 1, 0, 0, 1, 1, 0, 1, 1, 1, 0, 1, 1, 1, 0, 0, 1, 1, 0, 1, 0, 1, 1, 0, 0, 0, 1, 1, 0, 0, 1, 1, 0, 0, 1, 0, 1, 0, 1, 1, 0, 0, 1, 0]\n",
      " \n",
      "Numero de rachas= 60\n",
      "\n",
      "Z = -1.51588239224\n"
     ]
    }
   ],
   "source": [
    "#Realizando pruebas de ALEATORIEDAD\n",
    "import numpy as np\n",
    "import matplotlib.pyplot as plt\n",
    "import math\n",
    "\n",
    "x = float(7)\n",
    "a = float(1664525)\n",
    "c = float(1013904223)\n",
    "m = float (math.pow(2,32))\n",
    "can = float (100)\n",
    "k = 11  #cantidad de particiones para el intervalo [0,1]\n",
    "ite = 0\n",
    "res = 0\n",
    "lista = []\n",
    "rachas = []           #Creando la lista para las rachas de la secuencia.\n",
    "rachas.append(' ')    #Añadiendo un espacio para el primer valor de la lista.\n",
    "\n",
    "while(can != ite):\n",
    "    if(ite == 0):\n",
    "        res = x\n",
    "    x = (a * x + c) % m\n",
    "    y = x / m\n",
    "    #print ite, \"\\t\",y,\"\\t\",x\n",
    "    ite = ite + 1\n",
    "    lista.append(y)\n",
    "    #print lista\n",
    "\n",
    "\"\"\"Retorna el valor estadístico de contraste Z para determinar la aleatoriedad.\"\"\"\n",
    "#Completando con ceros los demás valores de la lista.    \n",
    "for i in range(1, len(lista)):\n",
    "    rachas.append(0)\n",
    "        \n",
    "#Recorriendo la secuencia y llenando con 1 ó 0.   \n",
    "for i in range(0, len(lista) - 1):\n",
    "    if lista [i + 1] > lista[i]:\n",
    "        rachas[i + 1] = 1\n",
    "print '\\nRachas = ' + str(rachas)\n",
    "    \n",
    "#Determinando el número de rachas de la secuencia.\n",
    "numRachas = 0\n",
    "print (rachas[0])\n",
    "for i in range(1, len(rachas) - 1):\n",
    "    if rachas[i + 1] != rachas[i]:\n",
    "        numRachas += 1\n",
    "numRachas += 1\n",
    "print 'Numero de rachas= ' + str(numRachas) + '\\n'\n",
    "        \n",
    "#Calculando el estadístico de contraste Z.  \n",
    "n = len(lista)\n",
    "z = (numRachas - ((2 * n - 1) / float(3))) / (math.sqrt(( 16 * n - 29)/float(90)))\n",
    "print 'Z = ' + str(z)"
   ]
  },
  {
   "cell_type": "code",
   "execution_count": null,
   "metadata": {
    "collapsed": true
   },
   "outputs": [],
   "source": []
  }
 ],
 "metadata": {
  "kernelspec": {
   "display_name": "Python 2",
   "language": "python",
   "name": "python2"
  },
  "language_info": {
   "codemirror_mode": {
    "name": "ipython",
    "version": 2
   },
   "file_extension": ".py",
   "mimetype": "text/x-python",
   "name": "python",
   "nbconvert_exporter": "python",
   "pygments_lexer": "ipython2",
   "version": "2.7.11"
  }
 },
 "nbformat": 4,
 "nbformat_minor": 0
}
