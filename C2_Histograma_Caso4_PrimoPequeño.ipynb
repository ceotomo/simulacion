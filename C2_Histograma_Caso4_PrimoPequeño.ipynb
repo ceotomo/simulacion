{
 "cells": [
  {
   "cell_type": "code",
   "execution_count": null,
   "metadata": {
    "collapsed": false
   },
   "outputs": [],
   "source": [
    "from matplotlib.pylab import hist, show\n",
    "import matplotlib.pyplot as plt\n",
    "def primo():\n",
    "    m = float (input(\"Modulo primo pequeno entre [2,19] = \"))\n",
    "    cont = 0\n",
    "    mod = 0\n",
    "\n",
    "    #validamos que el valor ingresado este entre 2,19\n",
    "    if m > 2 and m <= 19:\n",
    "        num = int(m)\n",
    "        for i in range(1, num+1):\n",
    "            if (num % i) == 0:\n",
    "                cont = cont + 1\n",
    "        if cont == 2:\n",
    "            print \"es primo\"\n",
    "            mod = mod + 1\n",
    "        else:\n",
    "            mod = mod + 2\n",
    "    else:\n",
    "        print\" No se encuentra entre el rango de primos pequeños \"\n",
    "\n",
    "    if mod == 1:\n",
    "        datos = []\n",
    "        x = float (7)\n",
    "        a = float (5)\n",
    "        c = float (3) \n",
    "        can = float(1000)\n",
    "        ite = 1\n",
    "        can = can + 1\n",
    "        modulo = float (m)\n",
    "        print \"************* Caso 4: Modulo primo pequeño entre [2,19], 1000 datos y graficar *************\"\n",
    "        print \"N\",\"\\t\", \"Un\",\"\\t\",\"Xn\"\n",
    "        while(can != ite):\n",
    "            if(ite == 0):\n",
    "                res = x\n",
    "            x = (a * x + c) % modulo\n",
    "            y = x / modulo\n",
    "            print ite, \"\\t\",y,\"\\t\",x\n",
    "            ite = ite + 1\n",
    "            datos.append(y)\n",
    "        plt.title('Caso 4: Primo Pequeno')\n",
    "        plt.xlabel('Xn')\n",
    "        plt.ylabel('Frecuencia')\n",
    "        hist(datos, can, (0,1))\n",
    "        show()\n",
    "    else:\n",
    "        print \" No es numero primo \"\n",
    "primo()"
   ]
  }
 ],
 "metadata": {
  "kernelspec": {
   "display_name": "Python 2",
   "language": "python",
   "name": "python2"
  },
  "language_info": {
   "codemirror_mode": {
    "name": "ipython",
    "version": 2
   },
   "file_extension": ".py",
   "mimetype": "text/x-python",
   "name": "python",
   "nbconvert_exporter": "python",
   "pygments_lexer": "ipython2",
   "version": "2.7.11"
  }
 },
 "nbformat": 4,
 "nbformat_minor": 0
}
