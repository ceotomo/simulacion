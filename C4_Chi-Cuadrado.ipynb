{
 "cells": [
  {
   "cell_type": "code",
   "execution_count": 3,
   "metadata": {
    "collapsed": false
   },
   "outputs": [
    {
     "name": "stdout",
     "output_type": "stream",
     "text": [
      "Semilla: 7\n",
      "Multiplicador: 75\n",
      "Constante Aditiva: 65539\n",
      "4.938\n"
     ]
    }
   ],
   "source": [
    "import numpy as np\n",
    "import matplotlib.pyplot as plt\n",
    "import math\n",
    "\n",
    "x = float(input(\"Semilla: \"))\n",
    "a = float(input(\"Multiplicador: \"))\n",
    "c = float(input(\"Constante Aditiva: \"))\n",
    "#m = float(input(\"Modulo: \"))\n",
    "m = float (math.pow(2,16)+1)\n",
    "can = 1000\n",
    "k = 11  #cantidad de particiones para el intervalo [0,1]\n",
    "ite = 0\n",
    "res = 0\n",
    "lista = []\n",
    "\n",
    "while(can != ite):\n",
    "    if(ite == 0):\n",
    "        res = x\n",
    "    x = (a * x + c) % m\n",
    "    y = x / m\n",
    "    #print ite, \"\\t\",y,\"\\t\",x\n",
    "    ite = ite + 1\n",
    "    lista.append(y)\n",
    "    #print lista\n",
    "\n",
    "longitudIntervalo = 1 / float(k) \n",
    "#Creando la lista que guardar los contadores para c/u de los k intervalos. \n",
    "frecuenciasObservadas = []           \n",
    "\n",
    "#Llenando con ceros los contadores de la lista.\n",
    "for i in range(0,k):\n",
    "    frecuenciasObservadas.append(0)\n",
    "    \n",
    "#print 'Longitud lista de FO = ' + str(len(frecuenciasObservadas))\n",
    "   \n",
    "#Recorriendo los valores de la secuencia y aumentando los contadores para c/u de los k intervalos.    \n",
    "for i in range(len(lista)):\n",
    "    cont = 1\n",
    "    for j in range(0,k):     \n",
    "        if lista[i] > (cont - 1) * longitudIntervalo and lista[i] <= cont * longitudIntervalo:\n",
    "            frecuenciasObservadas[j] += 1\n",
    "        cont += 1 \n",
    "            \n",
    "# Imprimiendo las frecuencias observados en cada intervalo.   \n",
    "# for i in range(len(frecuenciasObservadas)):\n",
    "# print 'F[' + str(i) + ']' + ' = ' + str(frecuenciasObservadas[i])+ '\\n'\n",
    "        \n",
    "frecuenciaEsperada = len(lista) / float(k)\n",
    "estimadoJiCuadrado = 0.0\n",
    "        \n",
    "for i in range(0,k):\n",
    "    estimadoJiCuadrado += (frecuenciasObservadas[i] - frecuenciaEsperada)**2 / frecuenciaEsperada\n",
    "print estimadoJiCuadrado"
   ]
  },
  {
   "cell_type": "code",
   "execution_count": null,
   "metadata": {
    "collapsed": true
   },
   "outputs": [],
   "source": []
  }
 ],
 "metadata": {
  "kernelspec": {
   "display_name": "Python 2",
   "language": "python",
   "name": "python2"
  },
  "language_info": {
   "codemirror_mode": {
    "name": "ipython",
    "version": 2
   },
   "file_extension": ".py",
   "mimetype": "text/x-python",
   "name": "python",
   "nbconvert_exporter": "python",
   "pygments_lexer": "ipython2",
   "version": "2.7.11"
  }
 },
 "nbformat": 4,
 "nbformat_minor": 0
}
