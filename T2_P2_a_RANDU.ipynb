{
 "cells": [
  {
   "cell_type": "code",
   "execution_count": 9,
   "metadata": {
    "collapsed": false
   },
   "outputs": [
    {
     "name": "stdout",
     "output_type": "stream",
     "text": [
      "[0.00021363282576203346, 0.0012817676179111004, 0.005767910275608301, 0.023071553092449903, 0.08651812607422471, 0.31146477861329913, 0.0901255370117724, 0.7375702145509422, 0.6142914541997015, 0.04761679423972964, 0.7570776776410639, 0.11391491768881679, 0.8697904073633254, 0.19350818498060107, 0.3329354436136782, 0.25603899685665965, 0.539814988616854, 0.9345389599911869, 0.7488988623954356, 0.08254253445193172, 0.7551654451526701, 0.7881098608486354, 0.9321701587177813, 0.5000322046689689, 0.6106617995537817, 0.16368095530197024, 0.48612953582778573, 0.4436486172489822, 0.2867258810438216, 0.7275177310220897, 0.7845734567381442, 0.15978116123005748, 0.8975258567370474, 0.9471246893517673, 0.6050154254771769, 0.10597034869715571, 0.19068326288834214, 0.19036643905565143, 0.4260492683388293, 0.8429976585321128, 0.2235425361432135, 0.7542762900702655, 0.5137749151326716, 0.2941628801636398, 0.14100304478779435, 0.19855234725400805, 0.9222866804338992, 0.7467489573173225, 0.17991361999884248, 0.35874110413715243, 0.5332240448333323, 0.9706743317656219, 0.0250295870937407, 0.4141085366718471, 0.2593849361874163, 0.829332787077874, 0.6415322967804968, 0.3851986969821155, 0.5374015108682215, 0.7576207923702896, 0.7091111564077437, 0.4360798071138561, 0.23447843501344323, 0.4821523460559547, 0.7826081612147391, 0.35627785278484225, 0.09419366577640176, 0.3586613195948303, 0.3042249255813658, 0.5973976771347225, 0.8463617325760424, 0.7015913012437522, 0.5922922142781317, 0.23943157447502017, 0.10595951834693551, 0.48087293980643153, 0.9316019737161696, 0.2617553840391338, 0.18611454078927636, 0.7608887883834541, 0.8903018631972373, 0.49381208373233676, 0.9501557336188853, 0.25662564812228084, 0.9883522861637175, 0.6204828838817775, 0.8277267278172076, 0.3820144119672477, 0.8425459214486182, 0.6171458209864795, 0.11996163288131356, 0.1654574084095657, 0.9130897545255721, 0.9894218514673412, 0.7187233180738986, 0.40754324523732066, 0.976749608758837, 0.19260844541713595, 0.36490419367328286, 0.4559491532854736]\n",
      "('De = ', 0.26724660473662543)\n",
      "('D = ', 0.2672466047366252)\n",
      "('p-value = ', 8.5199915034195328e-07)\n"
     ]
    }
   ],
   "source": [
    "#RANDU Xi+1 = 65539 Xi mod 2E31\n",
    "\n",
    "import numpy as np\n",
    "import matplotlib.pyplot as plt\n",
    "import math\n",
    "\n",
    "x = float(7)\n",
    "a = float(65539)\n",
    "c = 0.0\n",
    "m = float (math.pow(2,31))\n",
    "can = 100\n",
    "ite = 0.0\n",
    "res = 0.0\n",
    "lista = []\n",
    "\n",
    "while(can != ite):\n",
    "    if(ite == 0):\n",
    "        res = x\n",
    "    x = (a * x + c) % m\n",
    "    y = x / m\n",
    "    #print ite, \"\\t\",y,\"\\t\",x\n",
    "    ite = ite + 1\n",
    "    lista.append(y)\n",
    "print lista\n",
    "\n",
    "\"\"\"Imprime el resultado de aplicar el Test K-S sobre una secuencia de valores U[0,1].\"\"\"    \n",
    "N = len(lista)\n",
    "# Teoretical CDF for Uniform distribution F(x)\n",
    "u = [1.0] * N\n",
    "#print(u)\n",
    "\n",
    "# Plot empirical distribution f(x)\n",
    "count, bins, ignored = plt.hist(lista, 25, normed=True)\n",
    "plt.plot(bins, np.ones_like(bins), linewidth=2, color='r')\n",
    "plt.show()\n",
    "    \n",
    "x1 = np.arange(1/float(N), 1+1/float(N) , 1/float(N))\n",
    "y1 = np.cumsum(np.sort(u)/np.max(np.cumsum(u)))\n",
    "    \n",
    "x2 = np.sort(lista)\n",
    "y2 = np.cumsum(np.sort(lista)/np.max(np.cumsum(lista)))\n",
    "    \n",
    "De=np.absolute(y2-y1)\n",
    "print(\"De = \",np.max(De))\n",
    "    \n",
    "# Plotting\n",
    "plt.plot(x1,y1,label='Uniform')\n",
    "plt.step(x2,y2,label='Random')\n",
    "x3 = [x1[De.argmax()],x1[De.argmax()]]\n",
    "y3 = [np.min([y1[De.argmax()],y2[De.argmax()]]),np.max([y1[De.argmax()],y2[De.argmax()]])]\n",
    "plt.step(x3,y3,label='D')\n",
    "plt.legend()\n",
    "plt.xlabel('X')\n",
    "plt.ylabel('Cumulative Probability P(X)')\n",
    "plt.ylim(0, 1.05)\n",
    "plt.show()\n",
    "    \n",
    "# scipy function for K-S test\n",
    "from scipy import stats\n",
    "D,pvalue = stats.kstest(y2, 'uniform')\n",
    "print(\"D = \", D)\n",
    "print(\"p-value = \", pvalue)"
   ]
  },
  {
   "cell_type": "code",
   "execution_count": 11,
   "metadata": {
    "collapsed": false
   },
   "outputs": [
    {
     "name": "stdout",
     "output_type": "stream",
     "text": [
      "Estimado:  6.92\n"
     ]
    }
   ],
   "source": [
    "#Realizando el test chi cuadrado (k=11)\n",
    "import numpy as np\n",
    "import matplotlib.pyplot as plt\n",
    "import math\n",
    "\n",
    "x = float(7)\n",
    "a = float(65539)\n",
    "c = 0.0\n",
    "m = float (math.pow(2,31))\n",
    "can = float (100)\n",
    "ite = 0.0\n",
    "res = 0.0\n",
    "k = 11  #cantidad de particiones para el intervalo [0,1]\n",
    "lista = []\n",
    "\n",
    "while(can != ite):\n",
    "    if(ite == 0):\n",
    "        res = x\n",
    "    x = (a * x + c) % m\n",
    "    y = x / m\n",
    "    #print ite, \"\\t\",y,\"\\t\",x\n",
    "    ite = ite + 1\n",
    "    lista.append(y)\n",
    "    #print lista\n",
    "\n",
    "longitudIntervalo = 1 / float(k) \n",
    "#Creando la lista que guardar los contadores para c/u de los k intervalos. \n",
    "frecuenciasObservadas = []           \n",
    "\n",
    "#Llenando con ceros los contadores de la lista.\n",
    "for i in range(0,k):\n",
    "    frecuenciasObservadas.append(0)\n",
    "    \n",
    "#print 'Longitud lista de FO = ' + str(len(frecuenciasObservadas))\n",
    "   \n",
    "#Recorriendo los valores de la secuencia y aumentando los contadores para c/u de los k intervalos.    \n",
    "for i in range(len(lista)):\n",
    "    cont = 1\n",
    "    for j in range(0,k):     \n",
    "        if lista[i] > (cont - 1) * longitudIntervalo and lista[i] <= cont * longitudIntervalo:\n",
    "            frecuenciasObservadas[j] += 1\n",
    "        cont += 1 \n",
    "            \n",
    "# Imprimiendo las frecuencias observados en cada intervalo.   \n",
    "# for i in range(len(frecuenciasObservadas)):\n",
    "# print 'F[' + str(i) + ']' + ' = ' + str(frecuenciasObservadas[i])+ '\\n'\n",
    "        \n",
    "frecuenciaEsperada = len(lista) / float(k)\n",
    "estimadoJiCuadrado = 0.0\n",
    "        \n",
    "for i in range(0,k):\n",
    "    estimadoJiCuadrado += (frecuenciasObservadas[i] - frecuenciaEsperada)**2 / frecuenciaEsperada\n",
    "print \"Estimado: \",estimadoJiCuadrado"
   ]
  },
  {
   "cell_type": "code",
   "execution_count": 12,
   "metadata": {
    "collapsed": false
   },
   "outputs": [
    {
     "name": "stdout",
     "output_type": "stream",
     "text": [
      "\n",
      "Rachas = [' ', 1, 1, 1, 1, 1, 0, 1, 0, 0, 1, 0, 1, 0, 1, 0, 1, 1, 0, 0, 1, 1, 1, 0, 1, 0, 1, 0, 0, 1, 1, 0, 1, 1, 0, 0, 1, 0, 1, 1, 0, 1, 0, 0, 0, 1, 1, 0, 0, 1, 1, 1, 0, 1, 0, 1, 0, 0, 1, 1, 0, 0, 0, 1, 1, 0, 0, 1, 0, 1, 1, 0, 0, 0, 0, 1, 1, 0, 0, 1, 1, 0, 1, 0, 1, 0, 1, 0, 1, 0, 0, 1, 1, 1, 0, 0, 1, 0, 1, 1]\n",
      " \n",
      "Numero de rachas= 61\n",
      "\n",
      "Z = -1.27653254084\n"
     ]
    }
   ],
   "source": [
    "#Realizando pruebas de ALEATORIEDAD\n",
    "import numpy as np\n",
    "import matplotlib.pyplot as plt\n",
    "import math\n",
    "\n",
    "x = float(7)\n",
    "a = float(65539)\n",
    "c = 0.0\n",
    "m = math.pow(2,31)\n",
    "can = float (100)\n",
    "k = 11  #cantidad de particiones para el intervalo [0,1]\n",
    "ite = 0\n",
    "res = 0\n",
    "lista = []\n",
    "rachas = []           #Creando la lista para las rachas de la secuencia.\n",
    "rachas.append(' ')    #Añadiendo un espacio para el primer valor de la lista.\n",
    "\n",
    "while(can != ite):\n",
    "    if(ite == 0):\n",
    "        res = x\n",
    "    x = (a * x + c) % m\n",
    "    y = x / m\n",
    "    #print ite, \"\\t\",y,\"\\t\",x\n",
    "    ite = ite + 1\n",
    "    lista.append(y)\n",
    "    #print lista\n",
    "\n",
    "\"\"\"Retorna el valor estadístico de contraste Z para determinar la aleatoriedad.\"\"\"\n",
    "#Completando con ceros los demás valores de la lista.    \n",
    "for i in range(1, len(lista)):\n",
    "    rachas.append(0)\n",
    "        \n",
    "#Recorriendo la secuencia y llenando con 1 ó 0.   \n",
    "for i in range(0, len(lista) - 1):\n",
    "    if lista [i + 1] > lista[i]:\n",
    "        rachas[i + 1] = 1\n",
    "print '\\nRachas = ' + str(rachas)\n",
    "    \n",
    "#Determinando el número de rachas de la secuencia.\n",
    "numRachas = 0\n",
    "print (rachas[0])\n",
    "for i in range(1, len(rachas) - 1):\n",
    "    if rachas[i + 1] != rachas[i]:\n",
    "        numRachas += 1\n",
    "numRachas += 1\n",
    "print 'Numero de rachas= ' + str(numRachas) + '\\n'\n",
    "        \n",
    "#Calculando el estadístico de contraste Z.  \n",
    "n = len(lista)\n",
    "z = (numRachas - ((2 * n - 1) / float(3))) / (math.sqrt(( 16 * n - 29)/float(90)))\n",
    "print 'Z = ' + str(z)"
   ]
  },
  {
   "cell_type": "code",
   "execution_count": null,
   "metadata": {
    "collapsed": true
   },
   "outputs": [],
   "source": []
  }
 ],
 "metadata": {
  "kernelspec": {
   "display_name": "Python 2",
   "language": "python",
   "name": "python2"
  },
  "language_info": {
   "codemirror_mode": {
    "name": "ipython",
    "version": 2
   },
   "file_extension": ".py",
   "mimetype": "text/x-python",
   "name": "python",
   "nbconvert_exporter": "python",
   "pygments_lexer": "ipython2",
   "version": "2.7.11"
  }
 },
 "nbformat": 4,
 "nbformat_minor": 0
}
