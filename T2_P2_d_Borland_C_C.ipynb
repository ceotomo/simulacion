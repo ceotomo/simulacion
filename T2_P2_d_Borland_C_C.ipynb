{
 "cells": [
  {
   "cell_type": "code",
   "execution_count": 1,
   "metadata": {
    "collapsed": false
   },
   "outputs": [
    {
     "name": "stdout",
     "output_type": "stream",
     "text": [
      "[0.0369894178584218, 0.4822492015082389, 0.6610986012965441, 0.10045788623392582, 0.6464906800538301, 0.3598760608583689, 0.8620617110282183, 0.7352215722203255, 0.2822302356362343, 0.8215867355465889, 0.860102690756321, 0.8356981948018074, 0.15906593948602676, 0.37108851224184036, 0.7945489063858986, 0.43025631457567215, 0.2915569320321083, 0.6451252773404121, 0.8939979448914528, 0.7963312342762947, 0.2118992581963539, 0.7407124117016792, 0.5033899918198586, 0.9813777878880501, 0.01332411915063858, 0.23972857766784728, 0.4207033412531018, 0.005232922732830048, 0.6775257217232138, 0.4342775996774435, 0.27509462647140026, 0.767905255779624, 0.07072557508945465, 0.6627544912043959, 0.31177606992423534, 0.6241158749908209, 0.48618905059993267, 0.41554260812699795, 0.7052662950009108, 0.9770683851093054, 0.061675384640693665, 0.2735790165606886, 0.2780357273295522, 0.45478612277656794, 0.989394772797823, 0.3099532164633274, 0.0953194685280323, 0.8056301809847355, 0.2430449016392231, 0.9751202501356602, 0.20918812230229378, 0.21838489547371864, 0.3723711855709553, 0.6775883473455906, 0.752649862319231, 0.6393192745745182, 0.891762662678957, 0.0002890266478061676, 0.5976376722101122, 0.043978141620755196, 0.9016565924976021, 0.45692770183086395, 0.14756523072719574, 0.29996876418590546, 0.18829964101314545, 0.17172209918498993, 0.9524446576833725, 0.8222258538007736, 0.9537408202886581, 0.8508223742246628, 0.6253012269735336, 0.6148496121168137, 0.2302560657262802, 0.2438012808561325, 0.36224089562892914, 0.9152057617902756, 0.31697867810726166, 0.2984737604856491, 0.366205558180809, 0.8229647129774094, 0.7151903957128525, 0.17652194201946259, 0.6750980466604233, 0.19072656333446503, 0.3314463943243027, 0.019120141863822937, 0.7399071308318526, 0.26993029937148094, 0.9009885601699352, 0.14459988102316856, 0.2739640586078167, 0.990960355848074, 0.9640617780387402, 0.9100573323667049, 0.2554099075496197, 0.6823645196855068, 0.2621384672820568, 0.5550151728093624, 0.08914590999484062, 0.9499319756869227]\n",
      "('De = ', 0.26953148545724587)\n",
      "('D = ', 0.26953148545724565)\n",
      "('p-value = ', 6.6044909874385382e-07)\n"
     ]
    }
   ],
   "source": [
    "#Borland C/C++ Xi+1 = 22695477 Xi + 1 mod 2E32\n",
    "\n",
    "import numpy as np\n",
    "import matplotlib.pyplot as plt\n",
    "import math\n",
    "\n",
    "x = float(7)\n",
    "a = float(22695477)\n",
    "c = float(1)\n",
    "m = float (math.pow(2,32))\n",
    "can = 100\n",
    "ite = 0.0\n",
    "res = 0.0\n",
    "lista = []\n",
    "\n",
    "while(can != ite):\n",
    "    if(ite == 0):\n",
    "        res = x\n",
    "    x = (a * x + c) % m\n",
    "    y = x / m\n",
    "    #print ite, \"\\t\",y,\"\\t\",x\n",
    "    ite = ite + 1\n",
    "    lista.append(y)\n",
    "print lista\n",
    "\"\"\"Imprime el resultado de aplicar el Test K-S sobre una secuencia de valores U[0,1].\"\"\"    \n",
    "N = len(lista)\n",
    "# Teoretical CDF for Uniform distribution F(x)\n",
    "u = [1.0] * N\n",
    "#print(u)\n",
    "\n",
    "# Plot empirical distribution f(x)\n",
    "count, bins, ignored = plt.hist(lista, 25, normed=True)\n",
    "plt.plot(bins, np.ones_like(bins), linewidth=2, color='r')\n",
    "plt.show()\n",
    "    \n",
    "x1 = np.arange(1/float(N), 1+1/float(N) , 1/float(N))\n",
    "y1 = np.cumsum(np.sort(u)/np.max(np.cumsum(u)))\n",
    "    \n",
    "x2 = np.sort(lista)\n",
    "y2 = np.cumsum(np.sort(lista)/np.max(np.cumsum(lista)))\n",
    "    \n",
    "De=np.absolute(y2-y1)\n",
    "print(\"De = \",np.max(De))\n",
    "    \n",
    "# Plotting\n",
    "plt.plot(x1,y1,label='Uniform')\n",
    "plt.step(x2,y2,label='Random')\n",
    "x3 = [x1[De.argmax()],x1[De.argmax()]]\n",
    "y3 = [np.min([y1[De.argmax()],y2[De.argmax()]]),np.max([y1[De.argmax()],y2[De.argmax()]])]\n",
    "plt.step(x3,y3,label='D')\n",
    "plt.legend()\n",
    "plt.xlabel('X')\n",
    "plt.ylabel('Cumulative Probability P(X)')\n",
    "plt.ylim(0, 1.05)\n",
    "plt.show()\n",
    "    \n",
    "# scipy function for K-S test\n",
    "from scipy import stats\n",
    "D,pvalue = stats.kstest(y2, 'uniform')\n",
    "print(\"D = \", D)\n",
    "print(\"p-value = \", pvalue)"
   ]
  },
  {
   "cell_type": "code",
   "execution_count": 2,
   "metadata": {
    "collapsed": false
   },
   "outputs": [
    {
     "name": "stdout",
     "output_type": "stream",
     "text": [
      "Estimado:  9.56\n"
     ]
    }
   ],
   "source": [
    "#Realizando el test chi cuadrado (k=11)\n",
    "import numpy as np\n",
    "import matplotlib.pyplot as plt\n",
    "import math\n",
    "\n",
    "x = float(7)\n",
    "a = float(22695477)\n",
    "c = float(1)\n",
    "m = float (math.pow(2,32))\n",
    "can = float (100)\n",
    "ite = 0.0\n",
    "res = 0.0\n",
    "k = 11  #cantidad de particiones para el intervalo [0,1]\n",
    "lista = []\n",
    "\n",
    "while(can != ite):\n",
    "    if(ite == 0):\n",
    "        res = x\n",
    "    x = (a * x + c) % m\n",
    "    y = x / m\n",
    "    #print ite, \"\\t\",y,\"\\t\",x\n",
    "    ite = ite + 1\n",
    "    lista.append(y)\n",
    "    #print lista\n",
    "\n",
    "longitudIntervalo = 1 / float(k) \n",
    "#Creando la lista que guardar los contadores para c/u de los k intervalos. \n",
    "frecuenciasObservadas = []           \n",
    "\n",
    "#Llenando con ceros los contadores de la lista.\n",
    "for i in range(0,k):\n",
    "    frecuenciasObservadas.append(0)\n",
    "    \n",
    "#print 'Longitud lista de FO = ' + str(len(frecuenciasObservadas))\n",
    "   \n",
    "#Recorriendo los valores de la secuencia y aumentando los contadores para c/u de los k intervalos.    \n",
    "for i in range(len(lista)):\n",
    "    cont = 1\n",
    "    for j in range(0,k):     \n",
    "        if lista[i] > (cont - 1) * longitudIntervalo and lista[i] <= cont * longitudIntervalo:\n",
    "            frecuenciasObservadas[j] += 1\n",
    "        cont += 1 \n",
    "            \n",
    "# Imprimiendo las frecuencias observados en cada intervalo.   \n",
    "# for i in range(len(frecuenciasObservadas)):\n",
    "# print 'F[' + str(i) + ']' + ' = ' + str(frecuenciasObservadas[i])+ '\\n'\n",
    "        \n",
    "frecuenciaEsperada = len(lista) / float(k)\n",
    "estimadoJiCuadrado = 0.0\n",
    "        \n",
    "for i in range(0,k):\n",
    "    estimadoJiCuadrado += (frecuenciasObservadas[i] - frecuenciaEsperada)**2 / frecuenciaEsperada\n",
    "print \"Estimado: \",estimadoJiCuadrado"
   ]
  },
  {
   "cell_type": "code",
   "execution_count": 3,
   "metadata": {
    "collapsed": false
   },
   "outputs": [
    {
     "name": "stdout",
     "output_type": "stream",
     "text": [
      "\n",
      "Rachas = [' ', 1, 1, 0, 1, 0, 1, 0, 0, 1, 1, 0, 0, 1, 1, 0, 0, 1, 1, 0, 0, 1, 0, 1, 0, 1, 1, 0, 1, 0, 0, 1, 0, 1, 0, 1, 0, 0, 1, 1, 0, 1, 1, 1, 1, 0, 0, 1, 0, 1, 0, 1, 1, 1, 1, 0, 1, 0, 1, 0, 1, 0, 0, 1, 0, 0, 1, 0, 1, 0, 0, 0, 0, 1, 1, 1, 0, 0, 1, 1, 0, 0, 1, 0, 1, 0, 1, 0, 1, 0, 1, 1, 0, 0, 0, 1, 0, 1, 0, 1]\n",
      " \n",
      "Numero de rachas= 67\n",
      "\n",
      "Z = 0.159566567605\n"
     ]
    }
   ],
   "source": [
    "#Realizando pruebas de ALEATORIEDAD\n",
    "import numpy as np\n",
    "import matplotlib.pyplot as plt\n",
    "import math\n",
    "\n",
    "x = float(7)\n",
    "a = float(22695477)\n",
    "c = float(1)\n",
    "m = float (math.pow(2,32))\n",
    "can = float (100)\n",
    "k = 11  #cantidad de particiones para el intervalo [0,1]\n",
    "ite = 0\n",
    "res = 0\n",
    "lista = []\n",
    "rachas = []           #Creando la lista para las rachas de la secuencia.\n",
    "rachas.append(' ')    #Añadiendo un espacio para el primer valor de la lista.\n",
    "\n",
    "while(can != ite):\n",
    "    if(ite == 0):\n",
    "        res = x\n",
    "    x = (a * x + c) % m\n",
    "    y = x / m\n",
    "    #print ite, \"\\t\",y,\"\\t\",x\n",
    "    ite = ite + 1\n",
    "    lista.append(y)\n",
    "    #print lista\n",
    "\n",
    "\"\"\"Retorna el valor estadístico de contraste Z para determinar la aleatoriedad.\"\"\"\n",
    "#Completando con ceros los demás valores de la lista.    \n",
    "for i in range(1, len(lista)):\n",
    "    rachas.append(0)\n",
    "        \n",
    "#Recorriendo la secuencia y llenando con 1 ó 0.   \n",
    "for i in range(0, len(lista) - 1):\n",
    "    if lista [i + 1] > lista[i]:\n",
    "        rachas[i + 1] = 1\n",
    "print '\\nRachas = ' + str(rachas)\n",
    "    \n",
    "#Determinando el número de rachas de la secuencia.\n",
    "numRachas = 0\n",
    "print (rachas[0])\n",
    "for i in range(1, len(rachas) - 1):\n",
    "    if rachas[i + 1] != rachas[i]:\n",
    "        numRachas += 1\n",
    "numRachas += 1\n",
    "print 'Numero de rachas= ' + str(numRachas) + '\\n'\n",
    "        \n",
    "#Calculando el estadístico de contraste Z.  \n",
    "n = len(lista)\n",
    "z = (numRachas - ((2 * n - 1) / float(3))) / (math.sqrt(( 16 * n - 29)/float(90)))\n",
    "print 'Z = ' + str(z)"
   ]
  },
  {
   "cell_type": "code",
   "execution_count": null,
   "metadata": {
    "collapsed": true
   },
   "outputs": [],
   "source": []
  }
 ],
 "metadata": {
  "kernelspec": {
   "display_name": "Python 2",
   "language": "python",
   "name": "python2"
  },
  "language_info": {
   "codemirror_mode": {
    "name": "ipython",
    "version": 2
   },
   "file_extension": ".py",
   "mimetype": "text/x-python",
   "name": "python",
   "nbconvert_exporter": "python",
   "pygments_lexer": "ipython2",
   "version": "2.7.11"
  }
 },
 "nbformat": 4,
 "nbformat_minor": 0
}
