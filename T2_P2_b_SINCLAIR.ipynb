{
 "cells": [
  {
   "cell_type": "code",
   "execution_count": 1,
   "metadata": {
    "collapsed": false
   },
   "outputs": [
    {
     "name": "stdout",
     "output_type": "stream",
     "text": [
      "[0.008010742023589729, 0.6008056517692296, 0.06042388269221966, 0.5317912019164747, 0.8843401437355998, 0.3255107801699803, 0.41330851274852376, 0.9981384561392801, 0.8603842104460075, 0.5288157834505699, 0.661183758792743, 0.5887819094557273, 0.15864320917954744, 0.8982406884660573, 0.3680516349543006, 0.6038726215725468, 0.2904466179410104, 0.7834963455757816, 0.7622259181836215, 0.16694386377160994, 0.5207897828707447, 0.05923371530585776, 0.442528647939332, 0.18964859544989854, 0.22364465874238978, 0.7733494056792346, 0.0012054259425973114, 0.09040694569479836, 0.7805209271098769, 0.5390695332407648, 0.4302149930573569, 0.26612447930176847, 0.959335947632635, 0.950196072447625, 0.2647054335718754, 0.8529075178906572, 0.968063841799289, 0.6047881349466714, 0.35911012100035095, 0.933259075026321, 0.9944306269740757, 0.5822970230556784, 0.6722767291758853, 0.4207546881914033, 0.5566016143552497, 0.745121076643728, 0.8840807482795978, 0.3060561209698338, 0.9542090727375375, 0.5656804553153181, 0.42603414864885486, 0.9525611486641135, 0.44208614980850514, 0.15646123563788394, 0.7345926728412957, 0.09445046309718175, 0.08378473228863086, 0.28385492164731374, 0.2891191235485298, 0.6839342661397378, 0.29506996048033934, 0.13024703602545126, 0.7685277019088453, 0.6395776431634039, 0.9683232372552909, 0.6242427941468178, 0.8182095610113371, 0.36571707585028307, 0.4287806887712285, 0.15855165784213499, 0.8913743381601232, 0.8530753620092467, 0.9806521506935014, 0.5489113020126035, 0.16834765094526755, 0.6260738208950669, 0.9555365671300181, 0.6652425347513619, 0.8931901063521369, 0.989257976410272, 0.1943482307704045, 0.5761173077803379, 0.20879808352533683, 0.6598562644002625, 0.48921983001968355, 0.6914872514762653, 0.8615438607198986, 0.6157895539924012, 0.1842165494300929, 0.8162412072569694, 0.21809054427270091, 0.35679082045256877, 0.7593115339426584, 0.948365045699376, 0.1273784274531944, 0.5533820589895784, 0.5036544242183805, 0.7740818163785342, 0.05613622839006973, 0.21021712925522987]\n",
      "('De = ', 0.23274222200538172)\n",
      "('D = ', 0.23274222200538144)\n",
      "('p-value = ', 3.0197228824802025e-05)\n"
     ]
    }
   ],
   "source": [
    "#Sinclair ZX81 Xi+1 = 75Xi mod (2E16 + 1)\n",
    "\n",
    "import numpy as np\n",
    "import matplotlib.pyplot as plt\n",
    "import math\n",
    "\n",
    "x = float(7)\n",
    "a = float(75)\n",
    "c = 0.0\n",
    "m = float (math.pow(2,16)+1)\n",
    "can = 100\n",
    "ite = 0.0\n",
    "res = 0.0\n",
    "lista = []\n",
    "\n",
    "while(can != ite):\n",
    "    if(ite == 0):\n",
    "        res = x\n",
    "    x = (a * x + c) % m\n",
    "    y = x / m\n",
    "    #print ite, \"\\t\",y,\"\\t\",x\n",
    "    ite = ite + 1\n",
    "    lista.append(y)\n",
    "print lista\n",
    "\n",
    "\"\"\"Imprime el resultado de aplicar el Test K-S sobre una secuencia de valores U[0,1].\"\"\"    \n",
    "N = len(lista)\n",
    "# Teoretical CDF for Uniform distribution F(x)\n",
    "u = [1.0] * N\n",
    "#print(u)\n",
    "\n",
    "# Plot empirical distribution f(x)\n",
    "count, bins, ignored = plt.hist(lista, 25, normed=True)\n",
    "plt.plot(bins, np.ones_like(bins), linewidth=2, color='r')\n",
    "plt.show()\n",
    "    \n",
    "x1 = np.arange(1/float(N), 1+1/float(N) , 1/float(N))\n",
    "y1 = np.cumsum(np.sort(u)/np.max(np.cumsum(u)))\n",
    "    \n",
    "x2 = np.sort(lista)\n",
    "y2 = np.cumsum(np.sort(lista)/np.max(np.cumsum(lista)))\n",
    "    \n",
    "De=np.absolute(y2-y1)\n",
    "print(\"De = \",np.max(De))\n",
    "    \n",
    "# Plotting\n",
    "plt.plot(x1,y1,label='Uniform')\n",
    "plt.step(x2,y2,label='Random')\n",
    "x3 = [x1[De.argmax()],x1[De.argmax()]]\n",
    "y3 = [np.min([y1[De.argmax()],y2[De.argmax()]]),np.max([y1[De.argmax()],y2[De.argmax()]])]\n",
    "plt.step(x3,y3,label='D')\n",
    "plt.legend()\n",
    "plt.xlabel('X')\n",
    "plt.ylabel('Cumulative Probability P(X)')\n",
    "plt.ylim(0, 1.05)\n",
    "plt.show()\n",
    "    \n",
    "# scipy function for K-S test\n",
    "from scipy import stats\n",
    "D,pvalue = stats.kstest(y2, 'uniform')\n",
    "print(\"D = \", D)\n",
    "print(\"p-value = \", pvalue)"
   ]
  },
  {
   "cell_type": "code",
   "execution_count": 2,
   "metadata": {
    "collapsed": false
   },
   "outputs": [
    {
     "name": "stdout",
     "output_type": "stream",
     "text": [
      "Estimado:  5.82\n"
     ]
    }
   ],
   "source": [
    "#Realizando el test chi cuadrado (k=11)\n",
    "import numpy as np\n",
    "import matplotlib.pyplot as plt\n",
    "import math\n",
    "\n",
    "x = float(7)\n",
    "a = float(75)\n",
    "c = 0.0\n",
    "m = float (math.pow(2,16)+1)\n",
    "can = float (100)\n",
    "ite = 0.0\n",
    "res = 0.0\n",
    "k = 11  #cantidad de particiones para el intervalo [0,1]\n",
    "lista = []\n",
    "\n",
    "while(can != ite):\n",
    "    if(ite == 0):\n",
    "        res = x\n",
    "    x = (a * x + c) % m\n",
    "    y = x / m\n",
    "    #print ite, \"\\t\",y,\"\\t\",x\n",
    "    ite = ite + 1\n",
    "    lista.append(y)\n",
    "    #print lista\n",
    "\n",
    "longitudIntervalo = 1 / float(k) \n",
    "#Creando la lista que guardar los contadores para c/u de los k intervalos. \n",
    "frecuenciasObservadas = []           \n",
    "\n",
    "#Llenando con ceros los contadores de la lista.\n",
    "for i in range(0,k):\n",
    "    frecuenciasObservadas.append(0)\n",
    "    \n",
    "#print 'Longitud lista de FO = ' + str(len(frecuenciasObservadas))\n",
    "   \n",
    "#Recorriendo los valores de la secuencia y aumentando los contadores para c/u de los k intervalos.    \n",
    "for i in range(len(lista)):\n",
    "    cont = 1\n",
    "    for j in range(0,k):     \n",
    "        if lista[i] > (cont - 1) * longitudIntervalo and lista[i] <= cont * longitudIntervalo:\n",
    "            frecuenciasObservadas[j] += 1\n",
    "        cont += 1 \n",
    "            \n",
    "# Imprimiendo las frecuencias observados en cada intervalo.   \n",
    "# for i in range(len(frecuenciasObservadas)):\n",
    "# print 'F[' + str(i) + ']' + ' = ' + str(frecuenciasObservadas[i])+ '\\n'\n",
    "        \n",
    "frecuenciaEsperada = len(lista) / float(k)\n",
    "estimadoJiCuadrado = 0.0\n",
    "        \n",
    "for i in range(0,k):\n",
    "    estimadoJiCuadrado += (frecuenciasObservadas[i] - frecuenciaEsperada)**2 / frecuenciaEsperada\n",
    "print \"Estimado: \",estimadoJiCuadrado"
   ]
  },
  {
   "cell_type": "code",
   "execution_count": 3,
   "metadata": {
    "collapsed": false
   },
   "outputs": [
    {
     "name": "stdout",
     "output_type": "stream",
     "text": [
      "\n",
      "Rachas = [' ', 1, 0, 1, 1, 0, 1, 1, 0, 0, 1, 0, 0, 1, 0, 1, 0, 1, 0, 0, 1, 0, 1, 0, 1, 1, 0, 1, 1, 0, 0, 0, 1, 0, 0, 1, 1, 0, 0, 1, 1, 0, 1, 0, 1, 1, 1, 0, 1, 0, 0, 1, 0, 0, 1, 0, 0, 1, 1, 1, 0, 0, 1, 0, 1, 0, 1, 0, 1, 0, 1, 0, 1, 0, 0, 1, 1, 0, 1, 1, 0, 1, 0, 1, 0, 1, 1, 0, 0, 1, 0, 1, 1, 1, 0, 1, 0, 1, 0, 1]\n",
      " \n",
      "Numero de rachas= 71\n",
      "\n",
      "Z = 1.11696597323\n"
     ]
    }
   ],
   "source": [
    "#Realizando pruebas de ALEATORIEDAD\n",
    "import numpy as np\n",
    "import matplotlib.pyplot as plt\n",
    "import math\n",
    "\n",
    "x = float(7)\n",
    "a = float(75)\n",
    "c = 0.0\n",
    "m = (math.pow(2,16)+1)\n",
    "can = float (100)\n",
    "k = 11  #cantidad de particiones para el intervalo [0,1]\n",
    "ite = 0\n",
    "res = 0\n",
    "lista = []\n",
    "rachas = []           #Creando la lista para las rachas de la secuencia.\n",
    "rachas.append(' ')    #Añadiendo un espacio para el primer valor de la lista.\n",
    "\n",
    "while(can != ite):\n",
    "    if(ite == 0):\n",
    "        res = x\n",
    "    x = (a * x + c) % m\n",
    "    y = x / m\n",
    "    #print ite, \"\\t\",y,\"\\t\",x\n",
    "    ite = ite + 1\n",
    "    lista.append(y)\n",
    "    #print lista\n",
    "\n",
    "\"\"\"Retorna el valor estadístico de contraste Z para determinar la aleatoriedad.\"\"\"\n",
    "#Completando con ceros los demás valores de la lista.    \n",
    "for i in range(1, len(lista)):\n",
    "    rachas.append(0)\n",
    "        \n",
    "#Recorriendo la secuencia y llenando con 1 ó 0.   \n",
    "for i in range(0, len(lista) - 1):\n",
    "    if lista [i + 1] > lista[i]:\n",
    "        rachas[i + 1] = 1\n",
    "print '\\nRachas = ' + str(rachas)\n",
    "    \n",
    "#Determinando el número de rachas de la secuencia.\n",
    "numRachas = 0\n",
    "print (rachas[0])\n",
    "for i in range(1, len(rachas) - 1):\n",
    "    if rachas[i + 1] != rachas[i]:\n",
    "        numRachas += 1\n",
    "numRachas += 1\n",
    "print 'Numero de rachas= ' + str(numRachas) + '\\n'\n",
    "        \n",
    "#Calculando el estadístico de contraste Z.  \n",
    "n = len(lista)\n",
    "z = (numRachas - ((2 * n - 1) / float(3))) / (math.sqrt(( 16 * n - 29)/float(90)))\n",
    "print 'Z = ' + str(z)"
   ]
  },
  {
   "cell_type": "code",
   "execution_count": null,
   "metadata": {
    "collapsed": true
   },
   "outputs": [],
   "source": []
  }
 ],
 "metadata": {
  "kernelspec": {
   "display_name": "Python 2",
   "language": "python",
   "name": "python2"
  },
  "language_info": {
   "codemirror_mode": {
    "name": "ipython",
    "version": 2
   },
   "file_extension": ".py",
   "mimetype": "text/x-python",
   "name": "python",
   "nbconvert_exporter": "python",
   "pygments_lexer": "ipython2",
   "version": "2.7.11"
  }
 },
 "nbformat": 4,
 "nbformat_minor": 0
}
